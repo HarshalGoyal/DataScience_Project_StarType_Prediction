{
 "cells": [
  {
   "cell_type": "code",
   "execution_count": 2,
   "metadata": {},
   "outputs": [],
   "source": [
    "import pandas as pd\n",
    "from sklearn import tree\n",
    "from sklearn import metrics\n",
    "import streamlit as st\n",
    "from sklearn.model_selection import train_test_split\n",
    "from sklearn.metrics import accuracy_score\n",
    "\n",
    "\n",
    "\n",
    "\n",
    "df = pd.read_csv(\"estrelas.csv\")\n",
    "\n",
    "df = df.sample(frac=1).reset_index(drop=True)\n",
    "\n",
    "df[\"Star color\"] = pd.factorize(df[\"Star color\"])[0]\n",
    "df[\"Spectral Class\"] = pd.factorize(df[\"Spectral Class\"])[0]\n",
    "\n",
    "cols = [\"Absolute magnitude(Mv)\",\"Radius(R/Ro)\", \"Luminosity(L/Lo)\",\n",
    "           \"Spectral Class\", \"Temperature (K)\"]\n",
    "\n",
    "X = df[cols].values\n",
    "y = df[\"Star type\"]\n",
    "X_train, X_test, y_train, y_test = train_test_split(X, y, test_size=0.50, random_state=42)\n",
    "\n",
    "clf = tree.DecisionTreeClassifier(max_depth=4)\n",
    "clf.fit(X_train, y_train)\n",
    "\n",
    "y_pred = clf.predict(X_test)\n",
    "accuracy = accuracy_score(y_pred, y_test)\n",
    "\n",
    "\n",
    "\n"
   ]
  },
  {
   "cell_type": "code",
   "execution_count": 7,
   "metadata": {},
   "outputs": [
    {
     "data": {
      "text/html": [
       "<div>\n",
       "<style scoped>\n",
       "    .dataframe tbody tr th:only-of-type {\n",
       "        vertical-align: middle;\n",
       "    }\n",
       "\n",
       "    .dataframe tbody tr th {\n",
       "        vertical-align: top;\n",
       "    }\n",
       "\n",
       "    .dataframe thead th {\n",
       "        text-align: right;\n",
       "    }\n",
       "</style>\n",
       "<table border=\"1\" class=\"dataframe\">\n",
       "  <thead>\n",
       "    <tr style=\"text-align: right;\">\n",
       "      <th></th>\n",
       "      <th>Absolute magnitude(Mv)</th>\n",
       "      <th>Radius(R/Ro)</th>\n",
       "      <th>Luminosity(L/Lo)</th>\n",
       "      <th>Spectral Class</th>\n",
       "      <th>Temperature (K)</th>\n",
       "      <th>Star color</th>\n",
       "    </tr>\n",
       "  </thead>\n",
       "  <tbody>\n",
       "    <tr>\n",
       "      <th>0</th>\n",
       "      <td>10.02</td>\n",
       "      <td>0.0084</td>\n",
       "      <td>12450</td>\n",
       "      <td>12417</td>\n",
       "      <td>31122</td>\n",
       "      <td>2</td>\n",
       "    </tr>\n",
       "  </tbody>\n",
       "</table>\n",
       "</div>"
      ],
      "text/plain": [
       "   Absolute magnitude(Mv)  Radius(R/Ro)  Luminosity(L/Lo)  Spectral Class  \\\n",
       "0                   10.02        0.0084             12450           12417   \n",
       "\n",
       "   Temperature (K)  Star color  \n",
       "0            31122           2  "
      ]
     },
     "execution_count": 7,
     "metadata": {},
     "output_type": "execute_result"
    }
   ],
   "source": [
    "st.write(\"\"\"\n",
    "# Star Type Prediction App\n",
    "This app predicts the **Star type**!\n",
    "\"\"\")\n",
    "\n",
    "video_file = open('Star.mp4', 'rb')\n",
    "video_bytes = video_file.read()\n",
    "st.video(video_bytes)\n",
    "\n",
    "st.sidebar.header('User Input Parameters')\n",
    "\n",
    "def user_input_features():\n",
    "    magnitude = st.sidebar.slider('Absolute magnitude(Mv)', -11.92,  20.06, 5.4)\n",
    "    radius = st.sidebar.slider('Radius(R/Ro)', 0.0084, 1948.5, 3.4)\n",
    "    luminosity = st.sidebar.slider('Luminosity(L/Lo)', 0, 849420, 1000)\n",
    "    spectral = st.sidebar.slider('Spectral Class', 0, 6, 4)\n",
    "    temperature = st.sidebar.slider('Temperature (K)', 1939, 40000, 4000)\n",
    "    data = {'Absolute magnitude(Mv)': 10.02,\n",
    "            'Radius(R/Ro)':           0.0084,\n",
    "            'Luminosity(L/Lo)':       12450,\n",
    "            'Spectral Class':         12417,\n",
    "            'Temperature (K)':        31122,\n",
    "            'Star color':             2 }\n",
    "    features = pd.DataFrame(data, index=[0])\n",
    "    return features\n",
    "\n",
    "dataf = user_input_features()\n",
    "\n",
    "st.markdown(' This app predicts the **Star type** based on the Hertzsprung-Russell Diagram, one of the most important tools in the study of stellar evolution. Developed independently in the early 1900s by Ejnar Hertzsprung and Henry Norris Russell, it plots the temperature of stars against their luminosity (the theoretical HR diagram), or the colour of stars (or spectral type) against their absolute magnitude.')\n",
    "\n",
    "\n",
    "\n",
    "from PIL import Image\n",
    "image = Image.open('HR_diagram.jpeg')\n",
    "st.image(image, caption='HR diagram')\n",
    "\n",
    "\n",
    "st.subheader('User Input parameters')\n",
    "st.table(dataf)\n",
    "# !streamlit run /home/harshal/.local/lib/python3.8/site-packages/ipykernel_launcher.py\n",
    "# dataf"
   ]
  },
  {
   "cell_type": "code",
   "execution_count": 8,
   "metadata": {},
   "outputs": [],
   "source": [
    "from sklearn.preprocessing import LabelEncoder\n",
    "le=LabelEncoder()\n",
    "\n",
    "for col in df.columns.values:\n",
    "    if df[col].dtypes=='object':\n",
    "        df[col]=le.fit_transform(df[col])\n",
    "\n",
    "from sklearn.model_selection import train_test_split\n",
    "\n",
    "X = df.drop('Star type',axis=1)\n",
    "y=df['Star type']\n",
    "\n",
    "X_train, X_test, y_train, y_test = train_test_split(X,y,test_size=0.2,random_state=18)\n",
    "\n",
    "from sklearn.preprocessing import MinMaxScaler\n",
    "\n",
    "scaler = MinMaxScaler(feature_range=(0, 1))\n",
    "rescaledX_train = scaler.fit_transform(X_train)\n",
    "rescaledX_test = scaler.transform(X_test)\n",
    "\n",
    "\n",
    "\n",
    "# input_params = dataf.values.tolist()\n",
    "# y_pred = lr.predict(input_params)"
   ]
  },
  {
   "cell_type": "code",
   "execution_count": 9,
   "metadata": {},
   "outputs": [],
   "source": [
    "dataf = scaler.fit_transform(dataf)"
   ]
  },
  {
   "cell_type": "code",
   "execution_count": 10,
   "metadata": {},
   "outputs": [],
   "source": [
    "from sklearn.linear_model import LogisticRegression\n",
    "\n",
    "lr= LogisticRegression()\n",
    "\n",
    "lr.fit(rescaledX_train,y_train)\n",
    "pred = lr.predict(rescaledX_test)"
   ]
  },
  {
   "cell_type": "code",
   "execution_count": 5,
   "metadata": {},
   "outputs": [
    {
     "name": "stdout",
     "output_type": "stream",
     "text": [
      "[ 0  1  2  3  4  5  6  7  8  9 10 11 12 13 14 15 16 17 18]\n"
     ]
    }
   ],
   "source": [
    "vals = X['Star color'].unique()\n",
    "vals.sort()\n",
    "print(vals)"
   ]
  },
  {
   "cell_type": "code",
   "execution_count": 11,
   "metadata": {},
   "outputs": [
    {
     "name": "stdout",
     "output_type": "stream",
     "text": [
      "              precision    recall  f1-score   support\n",
      "\n",
      "           0       1.00      1.00      1.00        11\n",
      "           1       1.00      1.00      1.00         6\n",
      "           2       1.00      0.80      0.89        10\n",
      "           3       0.75      1.00      0.86         6\n",
      "           4       1.00      1.00      1.00         7\n",
      "           5       1.00      1.00      1.00         8\n",
      "\n",
      "    accuracy                           0.96        48\n",
      "   macro avg       0.96      0.97      0.96        48\n",
      "weighted avg       0.97      0.96      0.96        48\n",
      "\n"
     ]
    }
   ],
   "source": [
    "from sklearn.metrics import classification_report\n",
    "\n",
    "clsrp = classification_report(y_test,pred)\n",
    "print(clsrp)"
   ]
  },
  {
   "cell_type": "code",
   "execution_count": 12,
   "metadata": {},
   "outputs": [
    {
     "name": "stdout",
     "output_type": "stream",
     "text": [
      "0.9583333333333334\n"
     ]
    }
   ],
   "source": [
    "print(accuracy_score(y_test,pred))"
   ]
  },
  {
   "cell_type": "code",
   "execution_count": 13,
   "metadata": {},
   "outputs": [
    {
     "name": "stdout",
     "output_type": "stream",
     "text": [
      "[3]\n"
     ]
    }
   ],
   "source": [
    "out_put = lr.predict(dataf)\n",
    "print(out_put)"
   ]
  },
  {
   "cell_type": "code",
   "execution_count": null,
   "metadata": {},
   "outputs": [],
   "source": [
    "from PIL import Image\n",
    "image = Image.open('tipos.png')\n",
    "st.image(image, caption='Types')\n",
    "\n",
    "st.subheader('This is the Prediction')\n",
    "st.table(df[\"Star type\"][y_pred])"
   ]
  }
 ],
 "metadata": {
  "interpreter": {
   "hash": "916dbcbb3f70747c44a77c7bcd40155683ae19c65e1c03b4aa3499c5328201f1"
  },
  "kernelspec": {
   "display_name": "Python 3.8.10 64-bit",
   "language": "python",
   "name": "python3"
  },
  "language_info": {
   "codemirror_mode": {
    "name": "ipython",
    "version": 3
   },
   "file_extension": ".py",
   "mimetype": "text/x-python",
   "name": "python",
   "nbconvert_exporter": "python",
   "pygments_lexer": "ipython3",
   "version": "3.8.10"
  },
  "orig_nbformat": 4
 },
 "nbformat": 4,
 "nbformat_minor": 2
}
